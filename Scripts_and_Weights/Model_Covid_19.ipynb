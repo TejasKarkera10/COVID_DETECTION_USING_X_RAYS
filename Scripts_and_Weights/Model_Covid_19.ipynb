{
 "cells": [
  {
   "cell_type": "code",
   "execution_count": 27,
   "metadata": {
    "colab": {
     "base_uri": "https://localhost:8080/"
    },
    "id": "VBIXIwqzQ2m4",
    "outputId": "9fe715fd-3c0a-4c0d-c4a3-aae5d330a4d1"
   },
   "outputs": [
    {
     "name": "stdout",
     "output_type": "stream",
     "text": [
      "--2021-05-27 15:48:55--  https://www.dropbox.com/sh/sj70fl3stb63emi/AACh0CJfRWo0XHORX8vta368a?dl=0\n",
      "Resolving www.dropbox.com (www.dropbox.com)... 162.125.1.18, 2620:100:6030:18::a27d:5012\n",
      "Connecting to www.dropbox.com (www.dropbox.com)|162.125.1.18|:443... connected.\n",
      "HTTP request sent, awaiting response... 301 Moved Permanently\n",
      "Location: /sh/raw/sj70fl3stb63emi/AACh0CJfRWo0XHORX8vta368a [following]\n",
      "--2021-05-27 15:48:55--  https://www.dropbox.com/sh/raw/sj70fl3stb63emi/AACh0CJfRWo0XHORX8vta368a\n",
      "Reusing existing connection to www.dropbox.com:443.\n",
      "HTTP request sent, awaiting response... 302 Found\n",
      "Location: https://uc49c5baf0867b1b4837958971d9.dl.dropboxusercontent.com/zip_download_get/AypJ33golySStaqSWmgupfVNtI7-ftuPpQV8is5uJKc__UpCqSRny6GpKJQYn2W4UfMrwPvm2DYJC7xXfWEPPc3aBaFBgbhwNgf5YMmxk7R53w# [following]\n",
      "--2021-05-27 15:48:56--  https://uc49c5baf0867b1b4837958971d9.dl.dropboxusercontent.com/zip_download_get/AypJ33golySStaqSWmgupfVNtI7-ftuPpQV8is5uJKc__UpCqSRny6GpKJQYn2W4UfMrwPvm2DYJC7xXfWEPPc3aBaFBgbhwNgf5YMmxk7R53w\n",
      "Resolving uc49c5baf0867b1b4837958971d9.dl.dropboxusercontent.com (uc49c5baf0867b1b4837958971d9.dl.dropboxusercontent.com)... 162.125.1.15, 2620:100:6016:15::a27d:10f\n",
      "Connecting to uc49c5baf0867b1b4837958971d9.dl.dropboxusercontent.com (uc49c5baf0867b1b4837958971d9.dl.dropboxusercontent.com)|162.125.1.15|:443... connected.\n",
      "HTTP request sent, awaiting response... 200 OK\n",
      "Length: 189434974 (181M) [application/zip]\n",
      "Saving to: ‘AACh0CJfRWo0XHORX8vta368a?dl=0’\n",
      "\n",
      "AACh0CJfRWo0XHORX8v 100%[===================>] 180.66M  4.15MB/s    in 27s     \n",
      "\n",
      "2021-05-27 15:49:23 (6.80 MB/s) - ‘AACh0CJfRWo0XHORX8vta368a?dl=0’ saved [189434974/189434974]\n",
      "\n"
     ]
    }
   ],
   "source": [
    "!wget https://www.dropbox.com/sh/sj70fl3stb63emi/AACh0CJfRWo0XHORX8vta368a?dl=0"
   ]
  },
  {
   "cell_type": "code",
   "execution_count": 28,
   "metadata": {
    "colab": {
     "base_uri": "https://localhost:8080/"
    },
    "id": "xroySNUgQ7Je",
    "outputId": "8d8ba47f-133d-4fe9-cee8-70960ff227bb"
   },
   "outputs": [
    {
     "name": "stdout",
     "output_type": "stream",
     "text": [
      "Archive:  AACh0CJfRWo0XHORX8vta368a?dl=0\n",
      "warning:  stripped absolute path spec from /\n",
      "mapname:  conversion of  failed\n",
      "   creating: Dataset/\n",
      "   creating: Dataset/Test/\n",
      "   creating: Dataset/Train/\n",
      "   creating: Dataset/Test/COVID/\n",
      "   creating: Dataset/Test/Normal/\n",
      "   creating: Dataset/Train/COVID/\n",
      "   creating: Dataset/Train/Normal/\n",
      " extracting: Dataset/Train/COVID/AR-2.jpg  \n",
      " extracting: Dataset/Train/COVID/AR-1.jpg  \n",
      " extracting: Dataset/Test/COVID/paving.jpg  \n",
      " extracting: Dataset/Test/COVID/f6575117.jpg  \n",
      " extracting: Dataset/Test/COVID/f6d980a0.jpg  \n",
      " extracting: Dataset/Test/COVID/f64132c8.jpg  \n",
      " extracting: Dataset/Test/COVID/f8335316.jpg  \n",
      " extracting: Dataset/Train/COVID/ac4f6e4e.jpg  \n",
      " extracting: Dataset/Train/COVID/e1446fe8.jpg  \n",
      " extracting: Dataset/Train/COVID/d009d61f.jpg  \n",
      " extracting: Dataset/Train/COVID/c0f74558.jpg  \n",
      " extracting: Dataset/Train/COVID/8da14fff.jpg  \n",
      " extracting: Dataset/Train/COVID/48c4542c.jpg  \n",
      " extracting: Dataset/Train/COVID/bb0e626a.jpg  \n",
      " extracting: Dataset/Train/COVID/ec083e35.jpg  \n",
      " extracting: Dataset/Train/COVID/a2eba651.jpg  \n",
      " extracting: Dataset/Train/COVID/441c9cdd.jpg  \n",
      " extracting: Dataset/Train/COVID/c601f50d.jpg  \n",
      " extracting: Dataset/Train/COVID/2cd63b76.jpg  \n",
      " extracting: Dataset/Train/COVID/b9673e89.jpg  \n",
      " extracting: Dataset/Test/COVID/gr1_lrg-b.jpg  \n",
      " extracting: Dataset/Train/COVID/90986ce4.jpg  \n",
      " extracting: Dataset/Train/COVID/80b5f00f.jpg  \n",
      " extracting: Dataset/Train/COVID/a8ac1969.jpg  \n",
      " extracting: Dataset/Train/COVID/c3829ecb.jpg  \n",
      " extracting: Dataset/Train/COVID/5f619d7e.jpg  \n",
      " extracting: Dataset/Train/COVID/3b46de94.jpg  \n",
      " extracting: Dataset/Train/COVID/a361d7b7.jpg  \n",
      " extracting: Dataset/Train/COVID/2168a917.jpg  \n",
      " extracting: Dataset/Train/COVID/8fc103ca.jpg  \n",
      " extracting: Dataset/Train/COVID/5782ae15.jpg  \n",
      " extracting: Dataset/Test/COVID/gr1_lrg-a.jpg  \n",
      " extracting: Dataset/Train/COVID/19abe1f3.jpg  \n",
      " extracting: Dataset/Train/COVID/7afaaccc.jpg  \n",
      " extracting: Dataset/Train/COVID/bd10d5e2.jpg  \n",
      " extracting: Dataset/Train/COVID/0a7faa2a.jpg  \n",
      " extracting: Dataset/Train/COVID/4d98e1de.jpg  \n",
      " extracting: Dataset/Train/COVID/1052b0fe.jpg  \n",
      " extracting: Dataset/Train/COVID/82a78c13.jpg  \n",
      " extracting: Dataset/Train/COVID/d9d6ca9a.jpg  \n",
      " extracting: Dataset/Train/COVID/16953_3_1.jpg  \n",
      " extracting: Dataset/Train/COVID/16745_5_1.png  \n",
      " extracting: Dataset/Train/COVID/16660_3_1.jpg  \n",
      " extracting: Dataset/Train/COVID/16708_4_1.jpg  \n",
      " extracting: Dataset/Train/COVID/16708_1_1.jpg  \n",
      " extracting: Dataset/Train/COVID/16708_5_1.jpg  \n",
      " extracting: Dataset/Train/COVID/16660_1_1.jpg  \n",
      " extracting: Dataset/Train/COVID/16953_4_1.jpg  \n",
      " extracting: Dataset/Train/COVID/16865_1_1.jpg  \n",
      " extracting: Dataset/Train/COVID/16747_1_1.jpg  \n",
      " extracting: Dataset/Train/COVID/16664_1_1.jpg  \n",
      " extracting: Dataset/Train/COVID/16660_2_1.jpg  \n",
      " extracting: Dataset/Train/COVID/16953_5_1.jpg  \n",
      " extracting: Dataset/Train/COVID/16672_1_1.jpg  \n",
      " extracting: Dataset/Train/COVID/16663_1_1.jpg  \n",
      " extracting: Dataset/Train/COVID/16660_4_1.jpg  \n",
      " extracting: Dataset/Train/COVID/16660_5_1.jpg  \n",
      " extracting: Dataset/Train/COVID/16669_3_1.jpeg  \n",
      " extracting: Dataset/Test/COVID/extubation-8.jpg  \n",
      " extracting: Dataset/Test/COVID/extubation-4.jpg  \n",
      " extracting: Dataset/Test/COVID/extubation-1.jpg  \n",
      " extracting: Dataset/Test/COVID/lancet-case2b.jpg  \n",
      " extracting: Dataset/Test/COVID/lancet-case2a.jpg  \n",
      " extracting: Dataset/Test/COVID/extubation-13.jpg  \n",
      " extracting: Dataset/Test/COVID/tpmd200203f2-c.png  \n",
      " extracting: Dataset/Train/COVID/BMJ-37-163-g1.jpg  \n",
      " extracting: Dataset/Test/COVID/tpmd200203f2-b.png  \n",
      " extracting: Dataset/Train/COVID/2-chest-filmc.jpg  \n",
      " extracting: Dataset/Train/Normal/IM-0145-0001.jpeg  \n",
      " extracting: Dataset/Train/Normal/IM-0681-0001.jpeg  \n",
      " extracting: Dataset/Train/Normal/IM-0500-0001.jpeg  \n",
      " extracting: Dataset/Train/Normal/IM-0714-0001.jpeg  \n",
      " extracting: Dataset/Train/Normal/IM-0158-0001.jpeg  \n",
      " extracting: Dataset/Train/Normal/IM-0623-0001.jpeg  \n",
      " extracting: Dataset/Train/Normal/IM-0199-0001.jpeg  \n",
      " extracting: Dataset/Train/Normal/IM-0122-0001.jpeg  \n",
      " extracting: Dataset/Train/Normal/IM-0678-0001.jpeg  \n",
      " extracting: Dataset/Train/Normal/IM-0718-0001.jpeg  \n",
      " extracting: Dataset/Train/Normal/IM-0374-0001.jpeg  \n",
      " extracting: Dataset/Train/Normal/IM-0686-0001.jpeg  \n",
      " extracting: Dataset/Train/Normal/IM-0128-0001.jpeg  \n",
      " extracting: Dataset/Train/Normal/IM-0694-0001.jpeg  \n",
      " extracting: Dataset/Train/Normal/IM-0388-0001.jpeg  \n",
      " extracting: Dataset/Train/Normal/IM-0317-0001.jpeg  \n",
      " extracting: Dataset/Train/Normal/IM-0226-0001.jpeg  \n",
      " extracting: Dataset/Train/Normal/IM-0601-0001.jpeg  \n",
      " extracting: Dataset/Train/Normal/IM-0448-0001.jpeg  \n",
      " extracting: Dataset/Train/Normal/IM-0660-0001.jpeg  \n",
      " extracting: Dataset/Train/Normal/IM-0515-0001.jpeg  \n",
      " extracting: Dataset/Train/Normal/IM-0220-0001.jpeg  \n",
      " extracting: Dataset/Train/Normal/IM-0695-0001.jpeg  \n",
      " extracting: Dataset/Train/Normal/IM-0751-0001.jpeg  \n",
      " extracting: Dataset/Train/Normal/IM-0469-0001.jpeg  \n",
      " extracting: Dataset/Train/Normal/IM-0269-0001.jpeg  \n",
      " extracting: Dataset/Train/Normal/IM-0256-0001.jpeg  \n",
      " extracting: Dataset/Train/Normal/IM-0516-0001.jpeg  \n",
      " extracting: Dataset/Train/Normal/IM-0166-0001.jpeg  \n",
      " extracting: Dataset/Train/Normal/IM-0504-0001.jpeg  \n",
      " extracting: Dataset/Train/Normal/IM-0512-0001.jpeg  \n",
      " extracting: Dataset/Train/Normal/IM-0369-0001.jpeg  \n",
      " extracting: Dataset/Train/Normal/IM-0602-0001.jpeg  \n",
      " extracting: Dataset/Train/Normal/IM-0249-0001.jpeg  \n",
      " extracting: Dataset/Train/Normal/IM-0391-0001.jpeg  \n",
      " extracting: Dataset/Train/Normal/IM-0285-0001.jpeg  \n",
      " extracting: Dataset/Train/Normal/IM-0614-0001.jpeg  \n",
      " extracting: Dataset/Train/Normal/IM-0223-0001.jpeg  \n",
      " extracting: Dataset/Train/Normal/IM-0523-0001.jpeg  \n",
      " extracting: Dataset/Train/Normal/IM-0557-0001.jpeg  \n",
      " extracting: Dataset/Train/Normal/IM-0399-0001.jpeg  \n",
      " extracting: Dataset/Train/Normal/IM-0177-0001.jpeg  \n",
      " extracting: Dataset/Train/Normal/IM-0659-0001.jpeg  \n",
      " extracting: Dataset/Train/Normal/IM-0324-0001.jpeg  \n",
      " extracting: Dataset/Train/Normal/IM-0764-0001.jpeg  \n",
      " extracting: Dataset/Train/Normal/IM-0561-0001.jpeg  \n",
      " extracting: Dataset/Train/Normal/IM-0387-0001.jpeg  \n",
      " extracting: Dataset/Train/Normal/IM-0732-0001.jpeg  \n",
      " extracting: Dataset/Train/Normal/IM-0717-0001.jpeg  \n",
      " extracting: Dataset/Train/Normal/IM-0242-0001.jpeg  \n",
      " extracting: Dataset/Train/Normal/IM-0748-0001.jpeg  \n",
      " extracting: Dataset/Train/Normal/IM-0663-0001.jpeg  \n",
      " extracting: Dataset/Train/Normal/IM-0228-0001.jpeg  \n",
      " extracting: Dataset/Train/Normal/IM-0368-0001.jpeg  \n",
      " extracting: Dataset/Train/Normal/IM-0546-0001.jpeg  \n",
      " extracting: Dataset/Train/Normal/IM-0766-0001.jpeg  \n",
      " extracting: Dataset/Train/Normal/IM-0409-0001.jpeg  \n",
      " extracting: Dataset/Train/Normal/IM-0549-0001.jpeg  \n",
      " extracting: Dataset/Train/Normal/IM-0620-0001.jpeg  \n",
      " extracting: Dataset/Train/Normal/IM-0356-0001.jpeg  \n",
      " extracting: Dataset/Train/Normal/IM-0330-0001.jpeg  \n",
      " extracting: Dataset/Train/Normal/IM-0511-0001.jpeg  \n",
      " extracting: Dataset/Train/Normal/IM-0463-0001.jpeg  \n",
      " extracting: Dataset/Train/Normal/IM-0755-0001.jpeg  \n",
      " extracting: Dataset/Train/Normal/IM-0178-0001.jpeg  \n",
      " extracting: Dataset/Train/Normal/IM-0541-0001.jpeg  \n",
      " extracting: Dataset/Train/Normal/IM-0568-0001.jpeg  \n",
      " extracting: Dataset/Train/Normal/IM-0560-0001.jpeg  \n",
      " extracting: Dataset/Train/Normal/IM-0453-0001.jpeg  \n",
      " extracting: Dataset/Train/Normal/IM-0637-0001.jpeg  \n",
      " extracting: Dataset/Train/Normal/IM-0553-0001.jpeg  \n",
      " extracting: Dataset/Train/Normal/IM-0349-0001.jpeg  \n",
      " extracting: Dataset/Train/Normal/IM-0665-0001.jpeg  \n",
      " extracting: Dataset/Train/COVID/7-fatal-covid19.jpg  \n",
      " extracting: Dataset/Test/COVID/nejmoa2001191_f4.jpeg  \n",
      " extracting: Dataset/Test/COVID/nejmc2001573_f1b.jpeg  \n",
      " extracting: Dataset/Test/COVID/nejmc2001573_f1a.jpeg  \n",
      " extracting: Dataset/Train/COVID/ciaa199.pdf-001-b.png  \n",
      " extracting: Dataset/Test/COVID/thnov10p5641g006-c.png  \n",
      " extracting: Dataset/Train/COVID/ciaa199.pdf-001-a.png  \n",
      " extracting: Dataset/Test/COVID/ryct.2020003.fig2-a.png  \n",
      " extracting: Dataset/Test/COVID/ryct.2020003.fig2-c.png  \n",
      " extracting: Dataset/Test/COVID/kjr-21-e25-g001-l-a.jpg  \n",
      " extracting: Dataset/Test/COVID/ryct.2020003.fig2-b.png  \n",
      " extracting: Dataset/Train/Normal/IM-0509-0001-0002.jpeg  \n",
      " extracting: Dataset/Train/Normal/IM-0660-0001-0002.jpeg  \n",
      " extracting: Dataset/Train/Normal/IM-0629-0001-0001.jpeg  \n",
      " extracting: Dataset/Test/COVID/nejmoa2001191_f5-PA.jpeg  \n",
      " extracting: Dataset/Train/Normal/IM-0652-0001-0002.jpeg  \n",
      " extracting: Dataset/Train/Normal/IM-0551-0001-0002.jpeg  \n",
      " extracting: Dataset/Train/Normal/IM-0509-0001-0001.jpeg  \n",
      " extracting: Dataset/Train/Normal/IM-0608-0001-0001.jpeg  \n",
      " extracting: Dataset/Test/COVID/nejmoa2001191_f3-PA.jpeg  \n",
      " extracting: Dataset/Test/COVID/nejmoa2001191_f1-PA.jpeg  \n",
      " extracting: Dataset/Train/COVID/covid-19-caso-82-1-8.png  \n",
      " extracting: Dataset/Train/COVID/covid-19-pneumonia-8.jpg  \n",
      " extracting: Dataset/Test/COVID/ryct.2020200034.fig2.jpeg  \n",
      " extracting: Dataset/Test/Normal/NORMAL2-IM-1154-0001.jpeg  \n",
      " extracting: Dataset/Train/COVID/all14238-fig-0001-m-c.jpg  \n",
      " extracting: Dataset/Test/Normal/NORMAL2-IM-1422-0001.jpeg  \n",
      " extracting: Dataset/Test/Normal/NORMAL2-IM-1337-0001.jpeg  \n",
      " extracting: Dataset/Test/Normal/NORMAL2-IM-1144-0001.jpeg  \n",
      " extracting: Dataset/Test/Normal/NORMAL2-IM-1187-0001.jpeg  \n",
      " extracting: Dataset/Test/Normal/NORMAL2-IM-1181-0001.jpeg  \n",
      " extracting: Dataset/Train/COVID/all14238-fig-0001-m-b.jpg  \n",
      " extracting: Dataset/Test/Normal/NORMAL2-IM-1347-0001.jpeg  \n",
      " extracting: Dataset/Test/Normal/NORMAL2-IM-1357-0001.jpeg  \n",
      " extracting: Dataset/Test/Normal/NORMAL2-IM-1306-0001.jpeg  \n",
      " extracting: Dataset/Test/Normal/NORMAL2-IM-1329-0001.jpeg  \n",
      " extracting: Dataset/Train/COVID/covid-19-pneumonia-20.jpg  \n",
      " extracting: Dataset/Test/COVID/ryct.2020200028.fig1a.jpeg  \n",
      " extracting: Dataset/Test/Normal/NORMAL2-IM-1328-0001.jpeg  \n",
      " extracting: Dataset/Test/Normal/NORMAL2-IM-1281-0001.jpeg  \n",
      " extracting: Dataset/Test/Normal/NORMAL2-IM-1222-0001.jpeg  \n",
      " extracting: Dataset/Train/COVID/covid-19-caso-70-1-PA.jpg  \n",
      " extracting: Dataset/Test/Normal/NORMAL2-IM-1158-0001.jpeg  \n",
      " extracting: Dataset/Test/Normal/NORMAL2-IM-1260-0001.jpeg  \n",
      " extracting: Dataset/Test/Normal/NORMAL2-IM-1228-0001.jpeg  \n",
      " extracting: Dataset/Train/COVID/covid-19-caso-94-1-14.png  \n",
      " extracting: Dataset/Train/COVID/covid-19-pneumonia-93.png  \n",
      " extracting: Dataset/Test/Normal/NORMAL2-IM-1379-0001.jpeg  \n",
      " extracting: Dataset/Test/Normal/NORMAL2-IM-1317-0001.jpeg  \n",
      " extracting: Dataset/Test/Normal/NORMAL2-IM-1232-0001.jpeg  \n",
      " extracting: Dataset/Test/Normal/NORMAL2-IM-1147-0001.jpeg  \n",
      " extracting: Dataset/Test/Normal/NORMAL2-IM-1134-0001.jpeg  \n",
      " extracting: Dataset/Test/Normal/NORMAL2-IM-1293-0001.jpeg  \n",
      " extracting: Dataset/Train/COVID/covid-19-caso-91-1-12.png  \n",
      " extracting: Dataset/Test/Normal/NORMAL2-IM-1267-0001.jpeg  \n",
      " extracting: Dataset/Test/Normal/NORMAL2-IM-1244-0001.jpeg  \n",
      " extracting: Dataset/Test/Normal/NORMAL2-IM-1401-0001.jpeg  \n",
      " extracting: Dataset/Train/COVID/covid-19-caso-95-1-15.png  \n",
      " extracting: Dataset/Test/Normal/NORMAL2-IM-1182-0001.jpeg  \n",
      " extracting: Dataset/Train/COVID/covid-19-pneumonia-53.jpg  \n",
      " extracting: Dataset/Test/Normal/NORMAL2-IM-1088-0001.jpeg  \n",
      " extracting: Dataset/Test/Normal/NORMAL2-IM-1371-0001.jpeg  \n",
      " extracting: Dataset/Test/Normal/NORMAL2-IM-1278-0001.jpeg  \n",
      " extracting: Dataset/Train/COVID/covid-19-caso-95-3-14.png  \n",
      " extracting: Dataset/Test/Normal/NORMAL2-IM-1316-0001.jpeg  \n",
      " extracting: Dataset/Test/Normal/NORMAL2-IM-1163-0001.jpeg  \n",
      " extracting: Dataset/Test/Normal/NORMAL2-IM-1224-0001.jpeg  \n",
      " extracting: Dataset/Test/Normal/NORMAL2-IM-1334-0001.jpeg  \n",
      " extracting: Dataset/Test/Normal/NORMAL2-IM-1322-0001.jpeg  \n",
      " extracting: Dataset/Test/Normal/NORMAL2-IM-1093-0001.jpeg  \n",
      " extracting: Dataset/Train/COVID/covid-19-pneumonia-28.png  \n",
      " extracting: Dataset/Test/Normal/NORMAL2-IM-1302-0001.jpeg  \n",
      " extracting: Dataset/Test/Normal/NORMAL2-IM-1264-0001.jpeg  \n",
      " extracting: Dataset/Test/Normal/NORMAL2-IM-1291-0001.jpeg  \n",
      " extracting: Dataset/Train/Normal/NORMAL2-IM-0482-0001.jpeg  \n",
      " extracting: Dataset/Train/Normal/NORMAL2-IM-0464-0001.jpeg  \n",
      " extracting: Dataset/Train/Normal/NORMAL2-IM-0650-0001.jpeg  \n",
      " extracting: Dataset/Train/Normal/NORMAL2-IM-0499-0001.jpeg  \n",
      " extracting: Dataset/Train/Normal/NORMAL2-IM-0950-0001.jpeg  \n",
      " extracting: Dataset/Train/Normal/NORMAL2-IM-0412-0001.jpeg  \n",
      " extracting: Dataset/Train/Normal/NORMAL2-IM-0894-0001.jpeg  \n",
      " extracting: Dataset/Train/Normal/NORMAL2-IM-0908-0001.jpeg  \n",
      " extracting: Dataset/Train/Normal/NORMAL2-IM-0842-0001.jpeg  \n",
      " extracting: Dataset/Train/Normal/NORMAL2-IM-0500-0001.jpeg  \n",
      " extracting: Dataset/Train/Normal/NORMAL2-IM-0961-0001.jpeg  \n",
      " extracting: Dataset/Train/Normal/NORMAL2-IM-0828-0001.jpeg  \n",
      " extracting: Dataset/Train/Normal/NORMAL2-IM-0917-0001.jpeg  \n",
      " extracting: Dataset/Train/Normal/NORMAL2-IM-0875-0001.jpeg  \n",
      " extracting: Dataset/Train/Normal/NORMAL2-IM-0868-0001.jpeg  \n",
      " extracting: Dataset/Train/Normal/NORMAL2-IM-0852-0001.jpeg  \n",
      " extracting: Dataset/Train/Normal/NORMAL2-IM-0954-0001.jpeg  \n",
      " extracting: Dataset/Train/Normal/NORMAL2-IM-0383-0001.jpeg  \n",
      " extracting: Dataset/Train/Normal/NORMAL2-IM-0892-0001.jpeg  \n",
      " extracting: Dataset/Train/Normal/NORMAL2-IM-0440-0001.jpeg  \n",
      " extracting: Dataset/Train/Normal/NORMAL2-IM-0465-0001.jpeg  \n",
      " extracting: Dataset/Train/Normal/NORMAL2-IM-1038-0001.jpeg  \n",
      " extracting: Dataset/Train/Normal/NORMAL2-IM-0849-0001.jpeg  \n",
      " extracting: Dataset/Train/Normal/NORMAL2-IM-0622-0001.jpeg  \n",
      " extracting: Dataset/Train/Normal/NORMAL2-IM-0988-0001.jpeg  \n",
      " extracting: Dataset/Train/Normal/NORMAL2-IM-0707-0001.jpeg  \n",
      " extracting: Dataset/Train/Normal/NORMAL2-IM-0487-0001.jpeg  \n",
      " extracting: Dataset/Train/Normal/NORMAL2-IM-0855-0001.jpeg  \n",
      " extracting: Dataset/Train/Normal/NORMAL2-IM-1060-0001.jpeg  \n",
      " extracting: Dataset/Train/Normal/NORMAL2-IM-0668-0001.jpeg  \n",
      " extracting: Dataset/Train/Normal/NORMAL2-IM-0399-0001.jpeg  \n",
      " extracting: Dataset/Train/Normal/NORMAL2-IM-0847-0001.jpeg  \n",
      " extracting: Dataset/Train/Normal/NORMAL2-IM-0856-0001.jpeg  \n",
      " extracting: Dataset/Train/Normal/NORMAL2-IM-0896-0001.jpeg  \n",
      " extracting: Dataset/Train/Normal/NORMAL2-IM-0473-0001.jpeg  \n",
      " extracting: Dataset/Train/Normal/NORMAL2-IM-0571-0001.jpeg  \n",
      " extracting: Dataset/Train/Normal/NORMAL2-IM-0814-0001.jpeg  \n",
      " extracting: Dataset/Train/Normal/NORMAL2-IM-0390-0001.jpeg  \n",
      " extracting: Dataset/Train/Normal/NORMAL2-IM-0830-0001.jpeg  \n",
      " extracting: Dataset/Test/COVID/radiol.2020200490.fig3.jpeg  \n",
      " extracting: Dataset/Train/Normal/NORMAL2-IM-0397-0001.jpeg  \n",
      " extracting: Dataset/Train/Normal/NORMAL2-IM-0449-0001.jpeg  \n",
      " extracting: Dataset/Train/Normal/NORMAL2-IM-0428-0001.jpeg  \n",
      " extracting: Dataset/Train/Normal/NORMAL2-IM-0479-0001.jpeg  \n",
      " extracting: Dataset/Train/Normal/NORMAL2-IM-1045-0001.jpeg  \n",
      " extracting: Dataset/Train/Normal/NORMAL2-IM-0669-0001.jpeg  \n",
      " extracting: Dataset/Train/Normal/NORMAL2-IM-1073-0001.jpeg  \n",
      " extracting: Dataset/Train/Normal/NORMAL2-IM-0592-0001.jpeg  \n",
      " extracting: Dataset/Train/Normal/NORMAL2-IM-0665-0001.jpeg  \n",
      " extracting: Dataset/Train/Normal/NORMAL2-IM-0577-0001.jpeg  \n",
      " extracting: Dataset/Train/Normal/NORMAL2-IM-0481-0001.jpeg  \n",
      " extracting: Dataset/Train/Normal/NORMAL2-IM-0753-0001.jpeg  \n",
      " extracting: Dataset/Train/Normal/NORMAL2-IM-0869-0001.jpeg  \n",
      " extracting: Dataset/Train/Normal/NORMAL2-IM-0437-0001.jpeg  \n",
      " extracting: Dataset/Train/Normal/NORMAL2-IM-0808-0001.jpeg  \n",
      " extracting: Dataset/Train/Normal/NORMAL2-IM-0838-0001.jpeg  \n",
      " extracting: Dataset/Test/COVID/radiol.2020200274.fig3d.png  \n",
      " extracting: Dataset/Train/Normal/NORMAL2-IM-0621-0001.jpeg  \n",
      " extracting: Dataset/Train/Normal/NORMAL2-IM-0906-0001.jpeg  \n",
      " extracting: Dataset/Train/Normal/NORMAL2-IM-0476-0001.jpeg  \n",
      " extracting: Dataset/Train/Normal/NORMAL2-IM-0811-0001.jpeg  \n",
      " extracting: Dataset/Train/Normal/NORMAL2-IM-0937-0001.jpeg  \n",
      " extracting: Dataset/Train/Normal/NORMAL2-IM-0659-0001.jpeg  \n",
      " extracting: Dataset/Train/Normal/NORMAL2-IM-0727-0001.jpeg  \n",
      " extracting: Dataset/Train/Normal/NORMAL2-IM-0408-0001.jpeg  \n",
      " extracting: Dataset/Train/Normal/NORMAL2-IM-0922-0001.jpeg  \n",
      " extracting: Dataset/Train/Normal/NORMAL2-IM-0395-0001.jpeg  \n",
      " extracting: Dataset/Train/Normal/NORMAL2-IM-0898-0001.jpeg  \n",
      " extracting: Dataset/Train/Normal/NORMAL2-IM-0673-0001.jpeg  \n",
      " extracting: Dataset/Train/Normal/NORMAL2-IM-0460-0001.jpeg  \n",
      " extracting: Dataset/Train/Normal/NORMAL2-IM-0966-0001.jpeg  \n",
      " extracting: Dataset/Train/Normal/NORMAL2-IM-0694-0001.jpeg  \n",
      " extracting: Dataset/Train/Normal/NORMAL2-IM-0490-0001.jpeg  \n",
      " extracting: Dataset/Train/COVID/covid-19-pneumonia-mild.JPG  \n",
      " extracting: Dataset/Train/COVID/covid-19-pneumonia-7-PA.jpg  \n",
      " extracting: Dataset/Train/COVID/covid-19-pneumonia-35-2.jpg  \n",
      " extracting: Dataset/Train/COVID/covid-19-pneumonia-35-1.jpg  \n",
      " extracting: Dataset/Train/COVID/41182_2020_203_Fig4_HTML.jpg  \n",
      " extracting: Dataset/Train/COVID/covid-19-pneumonia-38-pa.jpg  \n",
      " extracting: Dataset/Train/COVID/covid-19-pneumonia-15-PA.jpg  \n",
      " extracting: Dataset/Train/COVID/covid-19-pneumonia-14-PA.png  \n",
      " extracting: Dataset/Train/COVID/41182_2020_203_Fig5_HTML.jpg  \n",
      " extracting: Dataset/Train/COVID/41182_2020_203_Fig3_HTML.jpg  \n",
      " extracting: Dataset/Train/COVID/covid-19-pneumonia-30-PA.jpg  \n",
      " extracting: Dataset/Train/COVID/12941_2020_358_Fig1_HTML.jpg  \n",
      " extracting: Dataset/Test/COVID/ryct.2020200034.fig5-day0.jpeg  \n",
      " extracting: Dataset/Test/COVID/ryct.2020200034.fig5-day7.jpeg  \n",
      " extracting: Dataset/Test/COVID/ryct.2020200034.fig5-day4.jpeg  \n",
      " extracting: Dataset/Train/COVID/40779_2020_233_Fig2_HTML-a.png  \n",
      " extracting: Dataset/Test/Normal/NORMAL2-IM-1102-0001-0002.jpeg  \n",
      " extracting: Dataset/Test/Normal/NORMAL2-IM-1258-0001-0002.jpeg  \n",
      " extracting: Dataset/Train/Normal/NORMAL2-IM-0971-0001-0001.jpeg  \n",
      " extracting: Dataset/Train/Normal/NORMAL2-IM-0971-0001-0002.jpeg  \n",
      " extracting: Dataset/Train/Normal/NORMAL2-IM-0395-0001-0001.jpeg  \n",
      " extracting: Dataset/Train/COVID/41379_2020_536_Fig2_HTML-c1.png  \n",
      " extracting: Dataset/Train/Normal/NORMAL2-IM-0587-0001-0001.jpeg  \n",
      " extracting: Dataset/Train/Normal/NORMAL2-IM-0983-0001-0002.jpeg  \n",
      " extracting: Dataset/Train/COVID/covid-19-pneumonia-44-day-0.jpeg  \n",
      " extracting: Dataset/Train/COVID/covid-19-pneumonia-22-day2-pa.png  \n",
      " extracting: Dataset/Train/COVID/covid-19-pneumonia-22-day1-pa.png  \n",
      " extracting: Dataset/Test/COVID/nCoV-radiol.2020200269.fig1-day7.jpeg  \n",
      " extracting: Dataset/Train/COVID/1-s2.0-S0140673620303706-fx1_lrg.jpg  \n",
      " extracting: Dataset/Train/COVID/10.1016-slash-j.anl.2020.04.002-a.png  \n",
      " extracting: Dataset/Train/COVID/1-s2.0-S2214250920300834-gr1_lrg-b.png  \n",
      " extracting: Dataset/Train/COVID/1-s2.0-S2214250920300834-gr1_lrg-c.png  \n",
      " extracting: Dataset/Train/COVID/10.1016-slash-j.crad.2020.04.002-b.png  \n",
      " extracting: Dataset/Train/COVID/1-s2.0-S2387020620301959-gr4_lrg-c.png  \n",
      " extracting: Dataset/Train/COVID/41591_2020_819_Fig1_HTML.webp-day5.png  \n",
      " extracting: Dataset/Train/COVID/10.1016-slash-j.crad.2020.04.002-a.png  \n",
      " extracting: Dataset/Train/COVID/1-s2.0-S2387020620301959-gr4_lrg-b.png  \n",
      " extracting: Dataset/Train/COVID/41591_2020_819_Fig1_HTML.webp-day10.png  \n",
      " extracting: Dataset/Test/COVID/FE9F9A5D-2830-46F9-851B-1FF4534959BE.jpeg  \n",
      " extracting: Dataset/Test/COVID/F4341CE7-73C9-45C6-99C8-8567A5484B63.jpeg  \n",
      " extracting: Dataset/Train/COVID/23E99E2E-447C-46E5-8EB2-D35D12473C39.png  \n",
      " extracting: Dataset/Test/COVID/yxppt-2020-02-19_00-51-27_287214-day8.jpg  \n",
      " extracting: Dataset/Train/COVID/7AF6C1AF-D249-4BD2-8C26-449304105D03.jpeg  \n",
      " extracting: Dataset/Train/COVID/2966893D-5DDF-4B68-9E2B-4979D5956C8E.jpeg  \n",
      " extracting: Dataset/Train/COVID/03BF7561-A9BA-4C3C-B8A0-D3E585F73F3C.jpeg  \n",
      " extracting: Dataset/Train/COVID/14d81f378173b86cc53f21d2d67040_jumbo.jpeg  \n",
      " extracting: Dataset/Train/COVID/9C34AF49-E589-44D5-92D3-168B3B04E4A6.jpeg  \n",
      " extracting: Dataset/Train/COVID/CD50BA96-6982-4C80-AE7B-5F67ACDBFA56.jpeg  \n",
      " extracting: Dataset/Train/COVID/80446565-E090-4187-A031-9D3CEAA586C8.jpeg  \n",
      " extracting: Dataset/Train/COVID/7C69C012-7479-493F-8722-ABC29C60A2DD.jpeg  \n",
      " extracting: Dataset/Train/COVID/53EC07C9-5CC6-4BE4-9B6F-D7B0D72AAA7E.jpeg  \n",
      " extracting: Dataset/Train/COVID/b0f1684d1ee90dc09deef015e29dae_jumbo.jpeg  \n",
      " extracting: Dataset/Train/COVID/93FE0BB1-022D-4F24-9727-987A07975FFB.jpeg  \n",
      " extracting: Dataset/Train/COVID/E63574A7-4188-4C8D-8D17-9D67A18A1AFA.jpeg  \n",
      " extracting: Dataset/Train/COVID/01E392EE-69F9-4E33-BFCE-E5C968654078.jpeg  \n",
      " extracting: Dataset/Train/COVID/1-s2.0-S1684118220300608-main.pdf-001.jpg  \n",
      " extracting: Dataset/Train/COVID/6C94A287-C059-46A0-8600-AFB95F4727B7.jpeg  \n",
      " extracting: Dataset/Train/COVID/1312A392-67A3-4EBF-9319-810CF6DA5EF6.jpeg  \n",
      " extracting: Dataset/Train/COVID/2C26F453-AF3B-4517-BB9E-802CF2179543.jpeg  \n",
      " extracting: Dataset/Train/COVID/9fdd3c3032296fd04d2cad5d9070d4_jumbo.jpeg  \n",
      " extracting: Dataset/Train/COVID/353889E0-A1E8-4F9E-A0B8-F24F36BCFBFB.jpeg  \n",
      " extracting: Dataset/Train/COVID/2edb88df42cab5e5fbc18b3965e0bd_jumbo.jpeg  \n",
      " extracting: Dataset/Train/COVID/1141cc2b8b9cc394becce5d978b5a7_jumbo.jpeg  \n",
      " extracting: Dataset/Train/COVID/6CB4EFC6-68FA-4CD5-940C-BEFA8DAFE9A7.jpeg  \n",
      " extracting: Dataset/Train/COVID/4e43e48d52c9e2d4c6c1fb9bc1544f_jumbo.jpeg  \n",
      " extracting: Dataset/Train/COVID/8FDE8DBA-CFBD-4B4C-B1A4-6F36A93B7E87.jpeg  \n",
      " extracting: Dataset/Train/COVID/covid-19-pneumonia-20-pa-on-admission.jpg  \n",
      " extracting: Dataset/Train/COVID/1-s2.0-S1684118220300608-main.pdf-002.jpg  \n",
      " extracting: Dataset/Train/COVID/1B734A89-A1BF-49A8-A1D3-66FAFA4FAC5D.jpeg  \n",
      " extracting: Dataset/Train/COVID/58cb9263f16e94305c730685358e4e_jumbo.jpeg  \n",
      " extracting: Dataset/Train/COVID/88de9d8c39e946abd495b37cd07d89e5-2ee6-0.jpg  \n",
      " extracting: Dataset/Train/COVID/88de9d8c39e946abd495b37cd07d89e5-6531-0.jpg  \n",
      " extracting: Dataset/Train/COVID/6b3bdbc31f65230b8cdcc3cef5f8ba8a-40ac-0.jpg  \n",
      " extracting: Dataset/Train/COVID/ae6c954c0039de4b5edee53865ffee43-e6c8-0.jpg  \n",
      " extracting: Dataset/Train/COVID/1-s2.0-S1684118220300682-main.pdf-002-a1.png  \n",
      " extracting: Dataset/Train/COVID/1-s2.0-S1684118220300682-main.pdf-003-b2.png  \n",
      " extracting: Dataset/Train/COVID/1-s2.0-S1684118220300682-main.pdf-003-b1.png  \n",
      " extracting: Dataset/Train/COVID/1-s2.0-S1684118220300682-main.pdf-002-a2.png  \n",
      " extracting: Dataset/Test/COVID/figure1-5e71be566aa8714a04de3386-98-left.jpeg  \n",
      " extracting: Dataset/Test/COVID/figure1-5e75d0940b71e1b702629659-98-right.jpeg  \n",
      " extracting: Dataset/Train/COVID/covid-19-pneumonia-rapidly-progressive-3-days.jpg  \n",
      " extracting: Dataset/Train/COVID/covid-19-pneumonia-rapidly-progressive-12-hours.jpg  \n",
      " extracting: Dataset/Train/COVID/covid-19-pneumonia-rapidly-progressive-admission.jpg  \n",
      " extracting: Dataset/Train/COVID/covid-19-pneumonia-evolution-over-a-week-1-day0-PA.jpg  \n",
      " extracting: Dataset/Test/COVID/fff49165-b22d-4bb4-b9d1-d5d62c52436c.annot.original.png  \n",
      " extracting: Dataset/Train/COVID/article_river_e4d185c06e3511eaa2321d8ab357a1de-c1mn.png  \n",
      " extracting: Dataset/Train/COVID/6b44464d-73a7-4cf3-bbb6-ffe7168300e3.annot.original.jpeg  \n",
      " extracting: Dataset/Train/COVID/1.CXRCTThoraximagesofCOVID-19fromSingapore.pdf-000-fig1b.png  \n",
      " extracting: Dataset/Train/COVID/1.CXRCTThoraximagesofCOVID-19fromSingapore.pdf-002-fig3b.png  \n",
      " extracting: Dataset/Train/COVID/1.CXRCTThoraximagesofCOVID-19fromSingapore.pdf-002-fig3a.png  \n",
      " extracting: Dataset/Train/COVID/1.CXRCTThoraximagesofCOVID-19fromSingapore.pdf-001-fig2b.png  \n",
      " extracting: Dataset/Train/COVID/1.CXRCTThoraximagesofCOVID-19fromSingapore.pdf-001-fig2a.png  \n",
      " extracting: Dataset/Train/COVID/1.CXRCTThoraximagesofCOVID-19fromSingapore.pdf-003-fig4a.png  \n",
      " extracting: Dataset/Train/COVID/1.CXRCTThoraximagesofCOVID-19fromSingapore.pdf-000-fig1a.png  \n",
      " extracting: Dataset/Train/COVID/1.CXRCTThoraximagesofCOVID-19fromSingapore.pdf-003-fig4b.png  \n",
      " extracting: Dataset/Train/COVID/covid-19-infection-exclusive-gastrointestinal-symptoms-pa.png  \n",
      " extracting: Dataset/Train/COVID/auntminnie-b-2020_01_28_23_51_6665_2020_01_28_Vietnam_coronavirus.jpeg  \n",
      " extracting: Dataset/Train/COVID/auntminnie-d-2020_01_28_23_51_6665_2020_01_28_Vietnam_coronavirus.jpeg  \n",
      " extracting: Dataset/Train/COVID/auntminnie-a-2020_01_28_23_51_6665_2020_01_28_Vietnam_coronavirus.jpeg  \n",
      " extracting: Dataset/Train/COVID/auntminnie-c-2020_01_28_23_51_6665_2020_01_28_Vietnam_coronavirus.jpeg  \n",
      " extracting: Dataset/Train/COVID/covid-19-rapidly-progressive-acute-respiratory-distress-syndrome-ards-day-2.jpg  \n",
      " extracting: Dataset/Train/COVID/covid-19-rapidly-progressive-acute-respiratory-distress-syndrome-ards-day-3.jpg  \n",
      " extracting: Dataset/Train/COVID/covid-19-rapidly-progressive-acute-respiratory-distress-syndrome-ards-day-1.jpg  \n",
      " extracting: Dataset/Train/COVID/covid-19-rapidly-progressive-acute-respiratory-distress-syndrome-ards-admission.jpg  \n",
      "\n",
      "1 archive had fatal errors.\n"
     ]
    }
   ],
   "source": [
    "!unzip AACh0CJfRWo0XHORX8vta368a?dl=0"
   ]
  },
  {
   "cell_type": "code",
   "execution_count": 28,
   "metadata": {
    "id": "P0k1l51RQ9RE"
   },
   "outputs": [],
   "source": []
  },
  {
   "cell_type": "code",
   "execution_count": 29,
   "metadata": {
    "id": "KrPuNcAmQlrT"
   },
   "outputs": [],
   "source": [
    "from keras.models import Sequential\n",
    "from keras.layers import *\n",
    "import keras \n",
    "from keras.preprocessing.image import ImageDataGenerator"
   ]
  },
  {
   "cell_type": "code",
   "execution_count": 30,
   "metadata": {
    "colab": {
     "base_uri": "https://localhost:8080/"
    },
    "id": "zuY5JKlSQm0M",
    "outputId": "7b442a4b-6bce-477b-d2b3-4fe35635ca32"
   },
   "outputs": [
    {
     "name": "stdout",
     "output_type": "stream",
     "text": [
      "Model: \"sequential_3\"\n",
      "_________________________________________________________________\n",
      "Layer (type)                 Output Shape              Param #   \n",
      "=================================================================\n",
      "conv2d_12 (Conv2D)           (None, 222, 222, 32)      896       \n",
      "_________________________________________________________________\n",
      "conv2d_13 (Conv2D)           (None, 220, 220, 64)      18496     \n",
      "_________________________________________________________________\n",
      "max_pooling2d_9 (MaxPooling2 (None, 110, 110, 64)      0         \n",
      "_________________________________________________________________\n",
      "dropout_12 (Dropout)         (None, 110, 110, 64)      0         \n",
      "_________________________________________________________________\n",
      "conv2d_14 (Conv2D)           (None, 108, 108, 64)      36928     \n",
      "_________________________________________________________________\n",
      "max_pooling2d_10 (MaxPooling (None, 54, 54, 64)        0         \n",
      "_________________________________________________________________\n",
      "dropout_13 (Dropout)         (None, 54, 54, 64)        0         \n",
      "_________________________________________________________________\n",
      "conv2d_15 (Conv2D)           (None, 52, 52, 128)       73856     \n",
      "_________________________________________________________________\n",
      "max_pooling2d_11 (MaxPooling (None, 26, 26, 128)       0         \n",
      "_________________________________________________________________\n",
      "dropout_14 (Dropout)         (None, 26, 26, 128)       0         \n",
      "_________________________________________________________________\n",
      "flatten_3 (Flatten)          (None, 86528)             0         \n",
      "_________________________________________________________________\n",
      "dense_6 (Dense)              (None, 64)                5537856   \n",
      "_________________________________________________________________\n",
      "dropout_15 (Dropout)         (None, 64)                0         \n",
      "_________________________________________________________________\n",
      "dense_7 (Dense)              (None, 1)                 65        \n",
      "=================================================================\n",
      "Total params: 5,668,097\n",
      "Trainable params: 5,668,097\n",
      "Non-trainable params: 0\n",
      "_________________________________________________________________\n"
     ]
    }
   ],
   "source": [
    "# Create Model Architecture \n",
    "\n",
    "\n",
    "model = Sequential()\n",
    "model.add(Conv2D(32,(3,3),activation='relu',input_shape = (224,224,3)))\n",
    "model.add(Conv2D(64,(3,3),activation='relu'))\n",
    "model.add(MaxPooling2D(2,2))\n",
    "model.add(Dropout(0.25))\n",
    "\n",
    "model.add(Conv2D(64,(3,3),activation='relu'))\n",
    "model.add(MaxPooling2D(2,2))\n",
    "model.add(Dropout(0.25))\n",
    "\n",
    "model.add(Conv2D(128,(3,3),activation='relu'))\n",
    "model.add(MaxPooling2D(2,2))\n",
    "model.add(Dropout(0.25))\n",
    "\n",
    "\n",
    "model.add(Flatten())\n",
    "model.add(Dense(64,activation='relu'))\n",
    "model.add(Dropout(0.5))\n",
    "model.add(Dense(1,activation='sigmoid'))\n",
    "model.summary()\n"
   ]
  },
  {
   "cell_type": "code",
   "execution_count": 31,
   "metadata": {
    "id": "hjVZyV4PSh8N"
   },
   "outputs": [],
   "source": [
    "model.compile(loss = keras.losses.binary_crossentropy,optimizer='adam',metrics = ['accuracy'])"
   ]
  },
  {
   "cell_type": "code",
   "execution_count": 32,
   "metadata": {
    "id": "GM5Ca2mNSuZj"
   },
   "outputs": [],
   "source": [
    "train_gene = ImageDataGenerator(\n",
    "    rescale = 1.0/255,\n",
    "    shear_range = 0.2,\n",
    "    zoom_range = 0.2,\n",
    "    horizontal_flip = True\n",
    ")\n",
    "\n",
    "test_gene = ImageDataGenerator(\n",
    "    rescale = 1.0/255\n",
    ")"
   ]
  },
  {
   "cell_type": "code",
   "execution_count": 33,
   "metadata": {
    "colab": {
     "base_uri": "https://localhost:8080/"
    },
    "id": "vWXLSyBLTHR3",
    "outputId": "2a14c50a-8cdb-4301-e079-4110281bffa3"
   },
   "outputs": [
    {
     "name": "stdout",
     "output_type": "stream",
     "text": [
      "Found 312 images belonging to 2 classes.\n",
      "Found 80 images belonging to 2 classes.\n"
     ]
    }
   ],
   "source": [
    "Train_generator = train_gene.flow_from_directory(\n",
    "    '/content/Dataset/Train',\n",
    "    target_size = (224,224),\n",
    "    batch_size = 32,\n",
    "    class_mode = 'binary' \n",
    ")\n",
    "\n",
    "Test_generator = test_gene.flow_from_directory(\n",
    "    '/content/Dataset/Test',\n",
    "    target_size = (224,224),\n",
    "    batch_size = 32,\n",
    "    class_mode = 'binary' \n",
    ")"
   ]
  },
  {
   "cell_type": "code",
   "execution_count": 34,
   "metadata": {
    "colab": {
     "base_uri": "https://localhost:8080/"
    },
    "id": "Pz88wK9RWTtp",
    "outputId": "fa20377d-8e36-4229-c56e-aa15e597bdec"
   },
   "outputs": [
    {
     "name": "stderr",
     "output_type": "stream",
     "text": [
      "/usr/local/lib/python3.7/dist-packages/keras/engine/training.py:1915: UserWarning: `Model.fit_generator` is deprecated and will be removed in a future version. Please use `Model.fit`, which supports generators.\n",
      "  warnings.warn('`Model.fit_generator` is deprecated and '\n"
     ]
    },
    {
     "name": "stdout",
     "output_type": "stream",
     "text": [
      "Epoch 1/15\n",
      "9/9 [==============================] - 13s 1s/step - loss: 0.9727 - accuracy: 0.5469 - val_loss: 0.6911 - val_accuracy: 0.5156\n",
      "Epoch 2/15\n",
      "9/9 [==============================] - 11s 1s/step - loss: 0.5886 - accuracy: 0.7174 - val_loss: 0.3810 - val_accuracy: 0.8594\n",
      "Epoch 3/15\n",
      "9/9 [==============================] - 10s 1s/step - loss: 0.4341 - accuracy: 0.7942 - val_loss: 0.2881 - val_accuracy: 0.9375\n",
      "Epoch 4/15\n",
      "9/9 [==============================] - 10s 1s/step - loss: 0.2697 - accuracy: 0.9084 - val_loss: 0.1763 - val_accuracy: 0.9531\n",
      "Epoch 5/15\n",
      "9/9 [==============================] - 10s 1s/step - loss: 0.2461 - accuracy: 0.9371 - val_loss: 0.1706 - val_accuracy: 0.9688\n",
      "Epoch 6/15\n",
      "9/9 [==============================] - 10s 1s/step - loss: 0.1376 - accuracy: 0.9669 - val_loss: 0.1930 - val_accuracy: 0.9375\n",
      "Epoch 7/15\n",
      "9/9 [==============================] - 10s 1s/step - loss: 0.1693 - accuracy: 0.9404 - val_loss: 0.1837 - val_accuracy: 0.9531\n",
      "Epoch 8/15\n",
      "9/9 [==============================] - 10s 1s/step - loss: 0.1631 - accuracy: 0.9456 - val_loss: 0.1395 - val_accuracy: 0.9688\n",
      "Epoch 9/15\n",
      "9/9 [==============================] - 10s 1s/step - loss: 0.1135 - accuracy: 0.9648 - val_loss: 0.1851 - val_accuracy: 0.9531\n",
      "Epoch 10/15\n",
      "9/9 [==============================] - 10s 1s/step - loss: 0.2226 - accuracy: 0.9335 - val_loss: 0.1843 - val_accuracy: 0.9531\n",
      "Epoch 11/15\n",
      "9/9 [==============================] - 10s 1s/step - loss: 0.1305 - accuracy: 0.9644 - val_loss: 0.1667 - val_accuracy: 0.9531\n",
      "Epoch 12/15\n",
      "9/9 [==============================] - 10s 1s/step - loss: 0.1237 - accuracy: 0.9657 - val_loss: 0.1765 - val_accuracy: 0.9375\n",
      "Epoch 13/15\n",
      "9/9 [==============================] - 10s 1s/step - loss: 0.1259 - accuracy: 0.9659 - val_loss: 0.1733 - val_accuracy: 0.9531\n",
      "Epoch 14/15\n",
      "9/9 [==============================] - 10s 1s/step - loss: 0.0929 - accuracy: 0.9744 - val_loss: 0.1276 - val_accuracy: 0.9688\n",
      "Epoch 15/15\n",
      "9/9 [==============================] - 10s 1s/step - loss: 0.1278 - accuracy: 0.9751 - val_loss: 0.1140 - val_accuracy: 0.9688\n"
     ]
    }
   ],
   "source": [
    "hist = model.fit_generator(\n",
    "    Train_generator,\n",
    "    epochs = 15,\n",
    "    steps_per_epoch = 9,\n",
    "    validation_data = Test_generator,\n",
    "    validation_steps = 2,\n",
    "\n",
    ")"
   ]
  },
  {
   "cell_type": "code",
   "execution_count": 35,
   "metadata": {
    "colab": {
     "base_uri": "https://localhost:8080/"
    },
    "id": "58WUZp9dXAvU",
    "outputId": "099e70b4-d736-4e6b-adf4-6284eac0fc5f"
   },
   "outputs": [
    {
     "name": "stderr",
     "output_type": "stream",
     "text": [
      "/usr/local/lib/python3.7/dist-packages/keras/engine/training.py:1948: UserWarning: `Model.evaluate_generator` is deprecated and will be removed in a future version. Please use `Model.evaluate`, which supports generators.\n",
      "  warnings.warn('`Model.evaluate_generator` is deprecated and '\n"
     ]
    },
    {
     "data": {
      "text/plain": [
       "[0.09403190016746521, 0.9711538553237915]"
      ]
     },
     "execution_count": 35,
     "metadata": {
      "tags": []
     },
     "output_type": "execute_result"
    }
   ],
   "source": [
    "model.evaluate_generator(Train_generator)"
   ]
  },
  {
   "cell_type": "code",
   "execution_count": 36,
   "metadata": {
    "colab": {
     "base_uri": "https://localhost:8080/"
    },
    "id": "RGwtwus4ccEA",
    "outputId": "5bef95df-41f9-4336-d58f-306475c9d9d0"
   },
   "outputs": [
    {
     "name": "stderr",
     "output_type": "stream",
     "text": [
      "/usr/local/lib/python3.7/dist-packages/keras/engine/training.py:1948: UserWarning: `Model.evaluate_generator` is deprecated and will be removed in a future version. Please use `Model.evaluate`, which supports generators.\n",
      "  warnings.warn('`Model.evaluate_generator` is deprecated and '\n"
     ]
    },
    {
     "data": {
      "text/plain": [
       "[0.13363412022590637, 0.9624999761581421]"
      ]
     },
     "execution_count": 36,
     "metadata": {
      "tags": []
     },
     "output_type": "execute_result"
    }
   ],
   "source": [
    "model.evaluate_generator(Test_generator)"
   ]
  },
  {
   "cell_type": "code",
   "execution_count": 37,
   "metadata": {
    "id": "HM5rXBg9fRoY"
   },
   "outputs": [],
   "source": [
    "model.save_weights(\"Covid-19_Weights.hdf5\")"
   ]
  },
  {
   "cell_type": "code",
   "execution_count": null,
   "metadata": {
    "id": "s4wVavnPfulV"
   },
   "outputs": [],
   "source": []
  }
 ],
 "metadata": {
  "accelerator": "GPU",
  "colab": {
   "name": "Model_Covid-19_.ipynb",
   "provenance": []
  },
  "kernelspec": {
   "display_name": "Python 3",
   "language": "python",
   "name": "python3"
  },
  "language_info": {
   "codemirror_mode": {
    "name": "ipython",
    "version": 3
   },
   "file_extension": ".py",
   "mimetype": "text/x-python",
   "name": "python",
   "nbconvert_exporter": "python",
   "pygments_lexer": "ipython3",
   "version": "3.5.4"
  }
 },
 "nbformat": 4,
 "nbformat_minor": 1
}
